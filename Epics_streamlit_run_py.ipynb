{
  "cells": [
    {
      "cell_type": "code",
      "execution_count": null,
      "metadata": {
        "colab": {
          "base_uri": "https://localhost:8080/"
        },
        "id": "64a1vmjF-zyF",
        "outputId": "6eac4e4b-71f3-4899-fe08-90ee59dfd385"
      },
      "outputs": [
        {
          "output_type": "stream",
          "name": "stdout",
          "text": [
            "Collecting streamlit\n",
            "  Downloading streamlit-1.34.0-py2.py3-none-any.whl (8.5 MB)\n",
            "\u001b[2K     \u001b[90m━━━━━━━━━━━━━━━━━━━━━━━━━━━━━━━━━━━━━━━━\u001b[0m \u001b[32m8.5/8.5 MB\u001b[0m \u001b[31m22.1 MB/s\u001b[0m eta \u001b[36m0:00:00\u001b[0m\n",
            "\u001b[?25hRequirement already satisfied: altair<6,>=4.0 in /usr/local/lib/python3.10/dist-packages (from streamlit) (4.2.2)\n",
            "Requirement already satisfied: blinker<2,>=1.0.0 in /usr/lib/python3/dist-packages (from streamlit) (1.4)\n",
            "Requirement already satisfied: cachetools<6,>=4.0 in /usr/local/lib/python3.10/dist-packages (from streamlit) (5.3.3)\n",
            "Requirement already satisfied: click<9,>=7.0 in /usr/local/lib/python3.10/dist-packages (from streamlit) (8.1.7)\n",
            "Requirement already satisfied: numpy<2,>=1.19.3 in /usr/local/lib/python3.10/dist-packages (from streamlit) (1.25.2)\n",
            "Requirement already satisfied: packaging<25,>=16.8 in /usr/local/lib/python3.10/dist-packages (from streamlit) (24.0)\n",
            "Requirement already satisfied: pandas<3,>=1.3.0 in /usr/local/lib/python3.10/dist-packages (from streamlit) (2.0.3)\n",
            "Requirement already satisfied: pillow<11,>=7.1.0 in /usr/local/lib/python3.10/dist-packages (from streamlit) (9.4.0)\n",
            "Requirement already satisfied: protobuf<5,>=3.20 in /usr/local/lib/python3.10/dist-packages (from streamlit) (3.20.3)\n",
            "Requirement already satisfied: pyarrow>=7.0 in /usr/local/lib/python3.10/dist-packages (from streamlit) (14.0.2)\n",
            "Requirement already satisfied: requests<3,>=2.27 in /usr/local/lib/python3.10/dist-packages (from streamlit) (2.31.0)\n",
            "Requirement already satisfied: rich<14,>=10.14.0 in /usr/local/lib/python3.10/dist-packages (from streamlit) (13.7.1)\n",
            "Requirement already satisfied: tenacity<9,>=8.1.0 in /usr/local/lib/python3.10/dist-packages (from streamlit) (8.2.3)\n",
            "Requirement already satisfied: toml<2,>=0.10.1 in /usr/local/lib/python3.10/dist-packages (from streamlit) (0.10.2)\n",
            "Requirement already satisfied: typing-extensions<5,>=4.3.0 in /usr/local/lib/python3.10/dist-packages (from streamlit) (4.11.0)\n",
            "Collecting gitpython!=3.1.19,<4,>=3.0.7 (from streamlit)\n",
            "  Downloading GitPython-3.1.43-py3-none-any.whl (207 kB)\n",
            "\u001b[2K     \u001b[90m━━━━━━━━━━━━━━━━━━━━━━━━━━━━━━━━━━━━━━━━\u001b[0m \u001b[32m207.3/207.3 kB\u001b[0m \u001b[31m22.6 MB/s\u001b[0m eta \u001b[36m0:00:00\u001b[0m\n",
            "\u001b[?25hCollecting pydeck<1,>=0.8.0b4 (from streamlit)\n",
            "  Downloading pydeck-0.9.0-py2.py3-none-any.whl (6.9 MB)\n",
            "\u001b[2K     \u001b[90m━━━━━━━━━━━━━━━━━━━━━━━━━━━━━━━━━━━━━━━━\u001b[0m \u001b[32m6.9/6.9 MB\u001b[0m \u001b[31m52.2 MB/s\u001b[0m eta \u001b[36m0:00:00\u001b[0m\n",
            "\u001b[?25hRequirement already satisfied: tornado<7,>=6.0.3 in /usr/local/lib/python3.10/dist-packages (from streamlit) (6.3.3)\n",
            "Collecting watchdog>=2.1.5 (from streamlit)\n",
            "  Downloading watchdog-4.0.0-py3-none-manylinux2014_x86_64.whl (82 kB)\n",
            "\u001b[2K     \u001b[90m━━━━━━━━━━━━━━━━━━━━━━━━━━━━━━━━━━━━━━━━\u001b[0m \u001b[32m83.0/83.0 kB\u001b[0m \u001b[31m10.2 MB/s\u001b[0m eta \u001b[36m0:00:00\u001b[0m\n",
            "\u001b[?25hRequirement already satisfied: entrypoints in /usr/local/lib/python3.10/dist-packages (from altair<6,>=4.0->streamlit) (0.4)\n",
            "Requirement already satisfied: jinja2 in /usr/local/lib/python3.10/dist-packages (from altair<6,>=4.0->streamlit) (3.1.3)\n",
            "Requirement already satisfied: jsonschema>=3.0 in /usr/local/lib/python3.10/dist-packages (from altair<6,>=4.0->streamlit) (4.19.2)\n",
            "Requirement already satisfied: toolz in /usr/local/lib/python3.10/dist-packages (from altair<6,>=4.0->streamlit) (0.12.1)\n",
            "Collecting gitdb<5,>=4.0.1 (from gitpython!=3.1.19,<4,>=3.0.7->streamlit)\n",
            "  Downloading gitdb-4.0.11-py3-none-any.whl (62 kB)\n",
            "\u001b[2K     \u001b[90m━━━━━━━━━━━━━━━━━━━━━━━━━━━━━━━━━━━━━━━━\u001b[0m \u001b[32m62.7/62.7 kB\u001b[0m \u001b[31m7.5 MB/s\u001b[0m eta \u001b[36m0:00:00\u001b[0m\n",
            "\u001b[?25hRequirement already satisfied: python-dateutil>=2.8.2 in /usr/local/lib/python3.10/dist-packages (from pandas<3,>=1.3.0->streamlit) (2.8.2)\n",
            "Requirement already satisfied: pytz>=2020.1 in /usr/local/lib/python3.10/dist-packages (from pandas<3,>=1.3.0->streamlit) (2023.4)\n",
            "Requirement already satisfied: tzdata>=2022.1 in /usr/local/lib/python3.10/dist-packages (from pandas<3,>=1.3.0->streamlit) (2024.1)\n",
            "Requirement already satisfied: charset-normalizer<4,>=2 in /usr/local/lib/python3.10/dist-packages (from requests<3,>=2.27->streamlit) (3.3.2)\n",
            "Requirement already satisfied: idna<4,>=2.5 in /usr/local/lib/python3.10/dist-packages (from requests<3,>=2.27->streamlit) (3.7)\n",
            "Requirement already satisfied: urllib3<3,>=1.21.1 in /usr/local/lib/python3.10/dist-packages (from requests<3,>=2.27->streamlit) (2.0.7)\n",
            "Requirement already satisfied: certifi>=2017.4.17 in /usr/local/lib/python3.10/dist-packages (from requests<3,>=2.27->streamlit) (2024.2.2)\n",
            "Requirement already satisfied: markdown-it-py>=2.2.0 in /usr/local/lib/python3.10/dist-packages (from rich<14,>=10.14.0->streamlit) (3.0.0)\n",
            "Requirement already satisfied: pygments<3.0.0,>=2.13.0 in /usr/local/lib/python3.10/dist-packages (from rich<14,>=10.14.0->streamlit) (2.16.1)\n",
            "Collecting smmap<6,>=3.0.1 (from gitdb<5,>=4.0.1->gitpython!=3.1.19,<4,>=3.0.7->streamlit)\n",
            "  Downloading smmap-5.0.1-py3-none-any.whl (24 kB)\n",
            "Requirement already satisfied: MarkupSafe>=2.0 in /usr/local/lib/python3.10/dist-packages (from jinja2->altair<6,>=4.0->streamlit) (2.1.5)\n",
            "Requirement already satisfied: attrs>=22.2.0 in /usr/local/lib/python3.10/dist-packages (from jsonschema>=3.0->altair<6,>=4.0->streamlit) (23.2.0)\n",
            "Requirement already satisfied: jsonschema-specifications>=2023.03.6 in /usr/local/lib/python3.10/dist-packages (from jsonschema>=3.0->altair<6,>=4.0->streamlit) (2023.12.1)\n",
            "Requirement already satisfied: referencing>=0.28.4 in /usr/local/lib/python3.10/dist-packages (from jsonschema>=3.0->altair<6,>=4.0->streamlit) (0.35.0)\n",
            "Requirement already satisfied: rpds-py>=0.7.1 in /usr/local/lib/python3.10/dist-packages (from jsonschema>=3.0->altair<6,>=4.0->streamlit) (0.18.0)\n",
            "Requirement already satisfied: mdurl~=0.1 in /usr/local/lib/python3.10/dist-packages (from markdown-it-py>=2.2.0->rich<14,>=10.14.0->streamlit) (0.1.2)\n",
            "Requirement already satisfied: six>=1.5 in /usr/local/lib/python3.10/dist-packages (from python-dateutil>=2.8.2->pandas<3,>=1.3.0->streamlit) (1.16.0)\n",
            "Installing collected packages: watchdog, smmap, pydeck, gitdb, gitpython, streamlit\n",
            "Successfully installed gitdb-4.0.11 gitpython-3.1.43 pydeck-0.9.0 smmap-5.0.1 streamlit-1.34.0 watchdog-4.0.0\n"
          ]
        }
      ],
      "source": [
        "!pip install streamlit"
      ]
    },
    {
      "cell_type": "code",
      "execution_count": null,
      "metadata": {
        "colab": {
          "base_uri": "https://localhost:8080/"
        },
        "id": "w2ALYLY1FAkt",
        "outputId": "f1ad1b0c-c34b-401c-cebe-6cd07e3cfe2a"
      },
      "outputs": [
        {
          "output_type": "stream",
          "name": "stdout",
          "text": [
            "Collecting pyngrok\n",
            "  Downloading pyngrok-7.1.6-py3-none-any.whl (22 kB)\n",
            "Requirement already satisfied: PyYAML>=5.1 in /usr/local/lib/python3.10/dist-packages (from pyngrok) (6.0.1)\n",
            "Installing collected packages: pyngrok\n",
            "Successfully installed pyngrok-7.1.6\n"
          ]
        }
      ],
      "source": [
        "!pip install pyngrok"
      ]
    },
    {
      "cell_type": "code",
      "execution_count": null,
      "metadata": {
        "colab": {
          "base_uri": "https://localhost:8080/"
        },
        "id": "R55fa3srAgsT",
        "outputId": "006cf6a1-e6d5-4925-9885-78221e876ce4"
      },
      "outputs": [
        {
          "output_type": "stream",
          "name": "stdout",
          "text": [
            "\u001b[K\u001b[?25h\u001b[37;40mnpm\u001b[0m \u001b[0m\u001b[30;43mWARN\u001b[0m \u001b[0m\u001b[35msaveError\u001b[0m ENOENT: no such file or directory, open '/content/package.json'\n",
            "\u001b[0m\u001b[37;40mnpm\u001b[0m \u001b[0m\u001b[34;40mnotice\u001b[0m\u001b[35m\u001b[0m created a lockfile as package-lock.json. You should commit this file.\n",
            "\u001b[0m\u001b[37;40mnpm\u001b[0m \u001b[0m\u001b[30;43mWARN\u001b[0m \u001b[0m\u001b[35menoent\u001b[0m ENOENT: no such file or directory, open '/content/package.json'\n",
            "\u001b[0m\u001b[37;40mnpm\u001b[0m \u001b[0m\u001b[30;43mWARN\u001b[0m\u001b[35m\u001b[0m content No description\n",
            "\u001b[0m\u001b[37;40mnpm\u001b[0m \u001b[0m\u001b[30;43mWARN\u001b[0m\u001b[35m\u001b[0m content No repository field.\n",
            "\u001b[0m\u001b[37;40mnpm\u001b[0m \u001b[0m\u001b[30;43mWARN\u001b[0m\u001b[35m\u001b[0m content No README data\n",
            "\u001b[0m\u001b[37;40mnpm\u001b[0m \u001b[0m\u001b[30;43mWARN\u001b[0m\u001b[35m\u001b[0m content No license field.\n",
            "\u001b[0m\n",
            "+ localtunnel@2.0.2\n",
            "added 22 packages from 22 contributors and audited 22 packages in 2.528s\n",
            "\n",
            "3 packages are looking for funding\n",
            "  run `npm fund` for details\n",
            "\n",
            "found 1 \u001b[93mmoderate\u001b[0m severity vulnerability\n",
            "  run `npm audit fix` to fix them, or `npm audit` for details\n",
            "\u001b[K\u001b[?25h"
          ]
        }
      ],
      "source": [
        "!npm install localtunnel"
      ]
    },
    {
      "cell_type": "code",
      "execution_count": null,
      "metadata": {
        "colab": {
          "base_uri": "https://localhost:8080/"
        },
        "id": "9A9J90tOCFwj",
        "outputId": "9b0fb77d-eb88-4848-baea-342dba956c12"
      },
      "outputs": [
        {
          "output_type": "stream",
          "name": "stdout",
          "text": [
            "Drive already mounted at /content/drive; to attempt to forcibly remount, call drive.mount(\"/content/drive\", force_remount=True).\n"
          ]
        }
      ],
      "source": [
        "from google.colab import drive\n",
        "drive.mount('/content/drive')"
      ]
    },
    {
      "cell_type": "code",
      "execution_count": null,
      "metadata": {
        "colab": {
          "base_uri": "https://localhost:8080/"
        },
        "id": "PegLaFbF-jqS",
        "outputId": "56858493-7bc2-442b-8994-720623ff9209"
      },
      "outputs": [
        {
          "output_type": "stream",
          "name": "stdout",
          "text": [
            "Overwriting app.py\n"
          ]
        }
      ],
      "source": [
        "%%writefile app.py\n",
        "import streamlit as st\n",
        "import pandas as pd\n",
        "import seaborn as sns\n",
        "import plotly.express as px\n",
        "import matplotlib.pyplot as plt\n",
        "import numpy as np\n",
        "import plotly.express as px\n",
        "from prophet import Prophet\n",
        "from prophet.plot import plot_plotly, plot_components_plotly\n",
        "import plotly.graph_objs as go\n",
        "import warnings\n",
        "warnings.filterwarnings('ignore')\n",
        "\n",
        "@st.cache_data\n",
        "def load_data():\n",
        "    data = pd.read_csv(\"/content/drive/MyDrive/datasets/DailyDelhiClimateTrain_delhi_2017.csv\")\n",
        "    data[\"date\"] = pd.to_datetime(data[\"date\"], format='%Y-%m-%d')\n",
        "    data['year'] = data['date'].dt.year\n",
        "    data[\"month\"] = data[\"date\"].dt.month\n",
        "    return data\n",
        "\n",
        "@st.cache_data\n",
        "def load_train():\n",
        "    train=pd.read_excel(\"/content/drive/MyDrive/datasets/AQI_ttnagar_Epics.xlsx\")\n",
        "    train['Date'] = pd.to_datetime(train['Date'])\n",
        "    train = train.drop([\"AQI Status\"], axis = 1)\n",
        "    train = train.drop([\"Benzene (µg/m3)\"], axis = 1)\n",
        "    train = train.dropna()\n",
        "    return train\n",
        "\n",
        "def page1(data):\n",
        "    st.header(\"This page contains temperature, humidity, and wind speed plots.\")\n",
        "\n",
        "    # Mean temperature plot\n",
        "    st.subheader(\"Mean Temperature Over the Years\")\n",
        "    mean_temp_overyears(data)\n",
        "\n",
        "    # Humidity plot\n",
        "    st.subheader(\"Humidity Over the Years\")\n",
        "    humidity_overyears(data)\n",
        "\n",
        "    # Wind speed plot\n",
        "    st.subheader(\"Wind Speed Over the Years\")\n",
        "    wind_speed_overyears(data)\n",
        "\n",
        "def page2():\n",
        "    st.header(\"Historical Observations on AQI of TT Nagar Bhopal-\")\n",
        "\n",
        "    # AQI over time\n",
        "    st.subheader(\"AQI Overtime\")\n",
        "    aqi_otm(train)\n",
        "\n",
        "    # AQI over the years\n",
        "    st.subheader(\"AQI Over the years\")\n",
        "    aqi_oty(train)\n",
        "\n",
        "def page3():\n",
        "    st.header(\"AQI Prediction\")\n",
        "    predictions_aqi = aqi_prediction(train)\n",
        "    aqi_pred_specific_date(predictions_aqi)\n",
        "\n",
        "def page4():\n",
        "  st.header(\"Weather Prediction\")\n",
        "\n",
        "  predictions_meantemp = weather_mt_prediction(data)\n",
        "  specific_date_prediction_mt(predictions_meantemp)\n",
        "\n",
        "  predictions_windspeed = weather_ws_prediction(data)\n",
        "  specific_date_prediction_ws(predictions_windspeed)\n",
        "\n",
        "  prediction_humidity = weather_hd_prediction(data)\n",
        "  specific_date_prediction_hd(prediction_humidity)\n",
        "\n",
        "\n",
        "#Weather Hist plots*************************************************************\n",
        "@st.cache_data\n",
        "def mean_temp_overyears(data):\n",
        "    plt.style.use('fivethirtyeight')\n",
        "    fig, ax = plt.subplots(figsize=(15, 10))\n",
        "    plt.title(\"Temperature Change in Delhi Over the Years\")\n",
        "    sns.set(rc={'text.color': 'white'})\n",
        "    sns.lineplot(data=data, x='month', y='meantemp', hue='year')\n",
        "    st.pyplot(fig)\n",
        "\n",
        "@st.cache_data\n",
        "def wind_speed_overyears(data):\n",
        "    plt.style.use('fivethirtyeight')\n",
        "    fig, ax = plt.subplots(figsize=(15, 10))\n",
        "    plt.title(\"Humidity Change in Delhi Over the Years\")\n",
        "    sns.set(rc={'text.color': 'white'})\n",
        "    sns.lineplot(data=data, x='month', y='humidity', hue='year')\n",
        "    st.pyplot(fig)\n",
        "\n",
        "@st.cache_data\n",
        "def humidity_overyears(data):\n",
        "    plt.style.use('fivethirtyeight')\n",
        "    fig, ax = plt.subplots(figsize=(15, 10))\n",
        "    plt.title(\"Wind speed Change in Delhi Over the Years\")\n",
        "    sns.set(rc={'text.color': 'white'})\n",
        "    sns.lineplot(data=data, x='month', y='wind_speed', hue='year')\n",
        "    st.pyplot(fig)\n",
        "\n",
        "#Weather Prediction*************************************************************\n",
        "\n",
        "#Meantemp***********************************\n",
        "def weather_mt_prediction(data):\n",
        "    forecast_data_meanTemp = data.rename(columns={\"date\": \"ds\", \"meantemp\": \"y\"})\n",
        "    model = Prophet()\n",
        "    model.fit(forecast_data_meanTemp)\n",
        "    forecasts_meanTemp = model.make_future_dataframe(periods=365)\n",
        "    predictions_meantemp = model.predict(forecasts_meanTemp)\n",
        "    fig = plot_plotly(model, predictions_meantemp)\n",
        "    fig.add_trace(go.Scatter(x=forecast_data_meanTemp['ds'], y=forecast_data_meanTemp['y'],\n",
        "                             mode='lines', name='Observed'))\n",
        "    fig.add_trace(go.Scatter(x=predictions_meantemp['ds'], y=predictions_meantemp['yhat'],\n",
        "                             mode = 'lines', name = 'Prediction'))\n",
        "\n",
        "    # Customize layout\n",
        "    fig.update_layout(title='Mean Temperature Forecast',\n",
        "                      xaxis_title='Date',\n",
        "                      yaxis_title='Mean Temperature')\n",
        "    st.plotly_chart(fig)\n",
        "    return predictions_meantemp\n",
        "\n",
        "\n",
        "def specific_date_prediction_mt(predictions_meantemp):\n",
        "    specific_date_input = st.text_input(\"Enter the date (YYYY-MM-DD):\")\n",
        "    if specific_date_input:\n",
        "        specific_date = pd.to_datetime(specific_date_input)\n",
        "        specific_date_prediction = predictions_meantemp[predictions_meantemp['ds'] == specific_date]\n",
        "\n",
        "        # Check if specific_date_prediction is not None before accessing its attributes\n",
        "        if specific_date_prediction is not None and not specific_date_prediction.empty:\n",
        "            st.write(\"Mean Temperature Prediction for {} is : {}\".format(specific_date, specific_date_prediction['yhat'].values[0]))\n",
        "        else:\n",
        "            st.write(\"No prediction available for the specified date.\")\n",
        "#*******************************************\n",
        "\n",
        "#Wind Speed\n",
        "def weather_ws_prediction(data):\n",
        "  forecast_data_windspeed = data.rename(columns = {\"date\": 'ds', \"wind_speed\": 'y'})\n",
        "  model = Prophet()\n",
        "  model.fit(forecast_data_windspeed)\n",
        "  forecasts_windspeed = model.make_future_dataframe(periods=365)\n",
        "  predictions_windspeed = model.predict(forecasts_windspeed)\n",
        "  fig = plot_plotly(model, predictions_windspeed)\n",
        "  fig.add_trace(go.Scatter(x=forecast_data_windspeed['ds'], y=forecast_data_windspeed['y'],\n",
        "                             mode='lines', name='Observed'))\n",
        "  fig.add_trace(go.Scatter(x=predictions_windspeed['ds'], y=predictions_windspeed['yhat'],\n",
        "                             mode = 'lines', name = 'Prediction'))\n",
        "\n",
        "    # Customize layout\n",
        "  fig.update_layout(title='Wind Speed Forecast',\n",
        "                      xaxis_title='Date',\n",
        "                      yaxis_title='Wind Speed')\n",
        "  st.plotly_chart(fig)\n",
        "  return predictions_windspeed\n",
        "\n",
        "def specific_date_prediction_ws(predictions_windspeed):\n",
        "  specific_date_input = st.text_input(\"Enter the date (YYYY-MM-DD):\", key=\"specific_date_input_ws\")\n",
        "  if specific_date_input:\n",
        "        specific_date = pd.to_datetime(specific_date_input)\n",
        "        specific_date_prediction = predictions_windspeed[predictions_windspeed['ds'] == specific_date]\n",
        "\n",
        "        # Check if specific_date_prediction is not None before accessing its attributes\n",
        "        if specific_date_prediction is not None and not specific_date_prediction.empty:\n",
        "            st.write(\"Wind Speed Prediction for {} is : {}\".format(specific_date, specific_date_prediction['yhat'].values[0]))\n",
        "        else:\n",
        "            st.write(\"No prediction available for the specified date.\")\n",
        "\n",
        "#Humidity***********************************************************************\n",
        "def weather_hd_prediction(data):\n",
        "  forecast_data_humidity = data.rename(columns = {\"date\": 'ds', \"humidity\": 'y'})\n",
        "  model = Prophet()\n",
        "  model.fit(forecast_data_humidity)\n",
        "  forecasts_humidity = model.make_future_dataframe(periods=365)\n",
        "  predictions_humidity = model.predict(forecasts_humidity)\n",
        "  fig = plot_plotly(model, predictions_humidity)\n",
        "  fig.add_trace(go.Scatter(x=forecast_data_humidity['ds'], y=forecast_data_humidity['y'],\n",
        "                             mode='lines', name='Observed'))\n",
        "  fig.add_trace(go.Scatter(x=predictions_humidity['ds'], y=predictions_humidity['yhat'],\n",
        "                             mode = 'lines', name = 'Prediction'))\n",
        "\n",
        "    # Customize layout\n",
        "  fig.update_layout(title='Humidity Forecast',\n",
        "                      xaxis_title='Date',\n",
        "                      yaxis_title='Humidity')\n",
        "  st.plotly_chart(fig)\n",
        "  return predictions_humidity\n",
        "\n",
        "def specific_date_prediction_hd(predictions_humidity):\n",
        "  specific_date_input = st.text_input(\"Enter the date (YYYY-MM-DD):\", key=\"specific_date_input_hd\")\n",
        "  if specific_date_input:\n",
        "        specific_date = pd.to_datetime(specific_date_input)\n",
        "        specific_date_prediction = predictions_humidity[predictions_humidity['ds'] == specific_date]\n",
        "\n",
        "        # Check if specific_date_prediction is not None before accessing its attributes\n",
        "        if specific_date_prediction is not None and not specific_date_prediction.empty:\n",
        "            st.write(\"Humidity Prediction for {} is : {}\".format(specific_date, specific_date_prediction['yhat'].values[0]))\n",
        "        else:\n",
        "            st.write(\"No prediction available for the specified date.\")\n",
        "\n",
        "\n",
        "\n",
        "#AQI Hist plots*****************************************************************\n",
        "\n",
        "@st.cache_data\n",
        "def aqi_otm(train):\n",
        "\n",
        "    x = train[\"Date\"].tolist()  # Convert Series to list\n",
        "    y = train[\"AQI No.\"].tolist()\n",
        "    figure = px.line(data, x, y, title='AQI in TT Nagar Over the Years')\n",
        "    st.plotly_chart(figure)\n",
        "\n",
        "@st.cache_data\n",
        "def aqi_oty(train):\n",
        "    train[\"Date\"] = pd.to_datetime(train[\"Date\"], format = '%Y-%m-%d')\n",
        "    train['year'] = train['Date'].dt.year\n",
        "    train[\"month\"] = train[\"Date\"].dt.month\n",
        "    plt.style.use('fivethirtyeight')\n",
        "    fig, ax = plt.subplots(figsize=(15, 10))\n",
        "    plt.title(\"AQI Change in Bhopal(TT Nagar) Over the Years\")\n",
        "    sns.lineplot(data=train, x='month', y='AQI No.', hue='year')\n",
        "    st.pyplot(fig)\n",
        "\n",
        "\n",
        "#AQI Prediction*****************************************************************\n",
        "\n",
        "@st.cache_data\n",
        "def aqi_prediction(train):\n",
        "    forecast_AQI = train.rename(columns={\"Date\": \"ds\", \"AQI No.\": \"y\"})\n",
        "    model = Prophet()\n",
        "    model.fit(forecast_AQI)\n",
        "    forecasts_aqi = model.make_future_dataframe(periods=365)\n",
        "    predictions_aqi = model.predict(forecasts_aqi)\n",
        "\n",
        "    # Plotting observed data and predictions\n",
        "    fig = go.Figure()\n",
        "    fig.add_trace(go.Scatter(x=forecast_AQI['ds'], y=forecast_AQI['y'], mode='lines', name='Observed'))\n",
        "    fig.add_trace(go.Scatter(x=predictions_aqi['ds'], y=predictions_aqi['yhat'], mode='lines', name='Predictions'))\n",
        "\n",
        "    fig.update_layout(title='AQI Prediction',\n",
        "                      xaxis_title='Date',\n",
        "                      yaxis_title='AQI')\n",
        "\n",
        "    # Show the Plotly figure using st.plotly_chart()\n",
        "    st.plotly_chart(fig)\n",
        "\n",
        "    return predictions_aqi\n",
        "\n",
        "\n",
        "def aqi_pred_specific_date(predictions_aqi):\n",
        "    # Obtain prediction for a specific date\n",
        "    st.write(\"Enter the date (YYYY-MM-DD): \")\n",
        "    specific_date_input = st.text_input(\"\")\n",
        "\n",
        "    if specific_date_input:\n",
        "        specific_date = pd.to_datetime(specific_date_input)\n",
        "        specific_date_prediction = predictions_aqi[predictions_aqi['ds'] == specific_date]\n",
        "\n",
        "        # Print the prediction for the specific date\n",
        "        if not specific_date_prediction.empty:\n",
        "            st.write(\"AQI Prediction for {} is : {}\".format(specific_date, specific_date_prediction['yhat'].values[0]))\n",
        "        else:\n",
        "            st.write(\"No prediction available for the specified date.\")\n",
        "\n",
        "\n",
        "\n",
        "\n",
        "# Load data*********************************************************************\n",
        "data = load_data()\n",
        "train = load_train()\n",
        "\n",
        "# Sidebar navigation\n",
        "page = st.sidebar.selectbox(\"Select Page\", [\"Historical Weather Data (Delhi)\", \"Historical AQI Data (TT Nagar Bhopal)\", \"AQI Predictor\", \"Weather Predictor(Currently only Delhi)\"])\n",
        "\n",
        "# Render selected page\n",
        "if page == \"Historical Weather Data (Delhi)\":\n",
        "    page1(data)\n",
        "elif page == \"Historical AQI Data (TT Nagar Bhopal)\":\n",
        "    page2()\n",
        "elif page == \"AQI Predictor\":\n",
        "    page3()\n",
        "elif page == \"Weather Predictor(Currently only Delhi)\":\n",
        "    page4()\n"
      ]
    },
    {
      "cell_type": "code",
      "execution_count": null,
      "metadata": {
        "id": "g43VUBnr_MDU"
      },
      "outputs": [],
      "source": [
        "!streamlit run /content/app.py &>/content/logs.txt &"
      ]
    },
    {
      "cell_type": "code",
      "execution_count": null,
      "metadata": {
        "colab": {
          "base_uri": "https://localhost:8080/"
        },
        "id": "vm1thA7fHyU9",
        "outputId": "b0dc8bdc-2bb2-4c9a-8b1d-86483c95a72d"
      },
      "outputs": [
        {
          "output_type": "stream",
          "name": "stdout",
          "text": [
            "\n",
            "Collecting usage statistics. To deactivate, set browser.gatherUsageStats to false.\n",
            "\u001b[0m\n",
            "2024-05-05 18:18:12.218 Port 8501 is already in use\n"
          ]
        }
      ],
      "source": [
        "!streamlit run --server.port 8501 /content/app.py"
      ]
    },
    {
      "cell_type": "code",
      "execution_count": null,
      "metadata": {
        "colab": {
          "base_uri": "https://localhost:8080/"
        },
        "id": "kHLJ5HaAHoLN",
        "outputId": "05c4866c-34d9-4f4b-fac2-8a6f8ab52be2"
      },
      "outputs": [
        {
          "output_type": "stream",
          "name": "stdout",
          "text": [
            "Public URL: NgrokTunnel: \"https://142a-34-125-167-146.ngrok-free.app\" -> \"http://localhost:8501\"\n"
          ]
        }
      ],
      "source": [
        "from pyngrok import ngrok\n",
        "\n",
        "\n",
        "# Authenticate with your ngrok authentication token\n",
        "ngrok.set_auth_token(\"2g2ia8R2rg72EYOS0esPmNyCrSj_33APXDdFZig3YzPFzt5xg\")\n",
        "# Set up a tunnel to the Streamlit app running on port 8501\n",
        "public_url = ngrok.connect(addr='8501')\n",
        "# Print the public URL\n",
        "print(\"Public URL:\", public_url)\n"
      ]
    },
    {
      "cell_type": "markdown",
      "metadata": {
        "id": "1PdM1wGKHz8X"
      },
      "source": []
    },
    {
      "cell_type": "code",
      "execution_count": null,
      "metadata": {
        "colab": {
          "base_uri": "https://localhost:8080/"
        },
        "id": "a7BZ4qPAA7zy",
        "outputId": "5ae716d8-f05c-4b4b-9c78-a5d451ba8f12"
      },
      "outputs": [
        {
          "name": "stdout",
          "output_type": "stream",
          "text": [
            "Password/Enpoint IP for localtunnel is: 34.73.139.230\n"
          ]
        }
      ],
      "source": [
        "#import urllib\n",
        "#print(\"Password/Enpoint IP for localtunnel is:\",urllib.request.urlopen('https://ipv4.icanhazip.com').read().decode('utf8').strip(\"\\n\"))"
      ]
    },
    {
      "cell_type": "code",
      "execution_count": null,
      "metadata": {
        "colab": {
          "base_uri": "https://localhost:8080/"
        },
        "id": "4tWEuJt5AwrY",
        "outputId": "6a67d52c-703e-4137-a18a-2e7cbf1e8253"
      },
      "outputs": [
        {
          "name": "stdout",
          "output_type": "stream",
          "text": [
            "\u001b[K\u001b[?25hnpx: installed 22 in 1.987s\n",
            "your url is: https://moody-rice-go.loca.lt\n",
            "^C\n"
          ]
        }
      ],
      "source": [
        "#!npx localtunnel --port 8501"
      ]
    },
    {
      "cell_type": "code",
      "execution_count": null,
      "metadata": {
        "id": "-nBfY2FT47Tb"
      },
      "outputs": [],
      "source": [
        "%%writefile app.py\n",
        "import streamlit as st\n",
        "import pandas as pd\n",
        "import seaborn as sns\n",
        "import matplotlib.pyplot as plt\n",
        "import plotly.express as px\n",
        "\n",
        "@st.cache_data\n",
        "def load_data():\n",
        "    data = pd.read_csv(\"/content/drive/MyDrive/datasets/DailyDelhiClimateTrain_delhi_2017.csv\")\n",
        "    data[\"date\"] = pd.to_datetime(data[\"date\"], format='%Y-%m-%d')\n",
        "    data['year'] = data['date'].dt.year\n",
        "    data[\"month\"] = data[\"date\"].dt.month\n",
        "    return data\n",
        "@st.cache_data\n",
        "def load_train():\n",
        "  train = pd.read_excel(\"/content/drive/MyDrive/datasets/AQI_ttnagar_Epics.xlsx\")\n",
        "  train['Date'] = pd.to_datetime(train['Date'])\n",
        "  train = train.drop([\"AQI Status\"], axis = 1)\n",
        "  train = train.drop([\"Benzene (µg/m3)\"], axis = 1)\n",
        "  train = train.dropna()\n",
        "  train[\"Date\"] = pd.to_datetime(train[\"Date\"], format = '%Y-%m-%d')\n",
        "  train['year'] = train['Date'].dt.year\n",
        "  train[\"month\"] = train[\"Date\"].dt.month\n",
        "  return train\n",
        "\n",
        "\n",
        "#PAGE 1*************************************************************************\n",
        "\n",
        "def page1(data):\n",
        "    st.header(\"Weather feature changes over the years -\")\n",
        "    st.write(\"This page contains temperature, humidity, and wind speed plots that were made from the Delhi weather database.\")\n",
        "\n",
        "    # Mean temperature plot\n",
        "    st.subheader(\"Mean Temperature Over the Years\")\n",
        "    mean_temp_overyears(data)\n",
        "\n",
        "    # Humidity plot\n",
        "    st.subheader(\"Humidity Over the Years\")\n",
        "    humidity_overyears(data)\n",
        "\n",
        "    # Wind speed plot\n",
        "    st.subheader(\"Wind Speed Over the Years\")\n",
        "    wind_speed_overyears(data)\n",
        "\n",
        "#PAGE 2*************************************************************************\n",
        "\n",
        "def page2():\n",
        "    st.header(\"Historical Observations on AQI of TT Nagar Bhopal-\")\n",
        "    st.write(\"This Page contains the plots which describe the historical changes in AQI of TT Nagar Bhopal and surrounding areas.\")\n",
        "\n",
        "    #AQI over time\n",
        "    st.subheader(\"AQI Overtime\")\n",
        "    aqi_otm(train)\n",
        "    #AQI over the years\n",
        "    st.subheader(\"AQI Over the years\")\n",
        "\n",
        "\n",
        "#PAGE 3*************************************************************************\n",
        "\n",
        "def page3():\n",
        "    st.header(\"Page 3\")\n",
        "    st.write(\"This is the content of Page 3\")\n",
        "\n",
        "#AQI Data**************************************************************************************************************************************************************\n",
        "@st.cache_data\n",
        "def aqi_otm(train):\n",
        "  figure = px.line(train, x=\"Date\",\n",
        "                 y=\"AQI No.\",\n",
        "                 title='AQI over time')\n",
        "  st.plotly_chart(figure)\n",
        "\n",
        "@st.cache_data\n",
        "def aqi_oty(train):\n",
        "  plt.style.use('fivethirtyeight')\n",
        "  fig, ax = plt.subplots(figsize=(15, 10))\n",
        "  plt.title(\"AQI Change in Bhopal(TT Nagar) Over the Years\")\n",
        "  sns.lineplot(data = train, x='month', y='AQI No.', hue='year')\n",
        "  st.pyplot(fig)\n",
        "\n",
        "#Weather Data**********************************************************************************************************************************************************\n",
        "@st.cache_data\n",
        "def mean_temp_overyears(data):\n",
        "    plt.style.use('fivethirtyeight')\n",
        "    fig, ax = plt.subplots(figsize=(15, 5))\n",
        "    plt.title(\"Temperature Change in Delhi Over the Years\")\n",
        "    sns.set(rc={'text.color': 'white'})\n",
        "    sns.lineplot(data=data, x='month', y='meantemp', hue='year')\n",
        "    st.pyplot(fig)\n",
        "\n",
        "@st.cache_data\n",
        "def wind_speed_overyears(data):\n",
        "    plt.style.use('fivethirtyeight')\n",
        "    fig, ax = plt.subplots(figsize=(15, 5))\n",
        "    plt.title(\"Humidity Change in Delhi Over the Years\")\n",
        "    sns.set(rc={'text.color': 'white'})\n",
        "    sns.lineplot(data=data, x='month', y='humidity', hue='year')\n",
        "    st.pyplot(fig)\n",
        "\n",
        "@st.cache_data\n",
        "def humidity_overyears(data):\n",
        "    plt.style.use('fivethirtyeight')\n",
        "    fig, ax = plt.subplots(figsize=(15, 5))\n",
        "    plt.title(\"Wind speed Change in Delhi Over the Years\")\n",
        "    sns.set(rc={'text.color': 'white'})\n",
        "    sns.lineplot(data=data, x='month', y='wind_speed', hue='year')\n",
        "    st.pyplot(fig)\n",
        "\n",
        "# Load data\n",
        "data = load_data()\n",
        "train = load_train()\n",
        "\n",
        "# Sidebar navigation\n",
        "page = st.sidebar.selectbox(\"Select Page:\", [\"Delhi Weather historical data\", \"AQI Historical data\", \"Page 3\"])\n",
        "\n",
        "# Render selected page\n",
        "if page == \"Page 1\":\n",
        "    page1(data)\n",
        "elif page == \"Page 2\":\n",
        "    page2()\n",
        "elif page == \"Page 3\":\n",
        "    page3()\n"
      ]
    }
  ],
  "metadata": {
    "colab": {
      "provenance": [],
      "mount_file_id": "10Y278uDgyKo7CrrtftPuHTBQmmM2B3wr",
      "authorship_tag": "ABX9TyNakUgXSPoE28mZlHaWIRod"
    },
    "kernelspec": {
      "display_name": "Python 3",
      "name": "python3"
    },
    "language_info": {
      "name": "python"
    }
  },
  "nbformat": 4,
  "nbformat_minor": 0
}